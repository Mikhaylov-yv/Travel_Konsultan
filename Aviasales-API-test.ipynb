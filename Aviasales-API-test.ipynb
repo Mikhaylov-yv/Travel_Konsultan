{
 "cells": [
  {
   "cell_type": "code",
   "execution_count": 68,
   "metadata": {},
   "outputs": [],
   "source": [
    "import api_config\n",
    "import requests"
   ]
  },
  {
   "cell_type": "markdown",
   "metadata": {},
   "source": [
    "# Переенные"
   ]
  },
  {
   "cell_type": "code",
   "execution_count": 69,
   "metadata": {},
   "outputs": [
    {
     "data": {
      "text/plain": [
       "{'origin': 'LED',\n",
       " 'destination': 'OPO',\n",
       " 'currency': 'rub',\n",
       " 'beginning_of_period': '2020-05-01',\n",
       " 'show_to_affiliates': 'false',\n",
       " 'one_way': 'false',\n",
       " 'limit': 1,\n",
       " 'sorting': 'price',\n",
       " 'trip_duration': 1,\n",
       " 'depart_date': '2020-05',\n",
       " 'return_date': '2020-05',\n",
       " 'token': '27decee2c33665d87d6e751aa6426237'}"
      ]
     },
     "execution_count": 69,
     "metadata": {},
     "output_type": "execute_result"
    }
   ],
   "source": [
    "param = {'origin' : 'LED',\n",
    "'destination' : 'OPO',\n",
    "'currency' : 'rub',\n",
    "'beginning_of_period' : '2020-05-01',\n",
    "'show_to_affiliates' : 'false',\n",
    "'one_way' : 'false', #true — в одну сторону, false — туда и обратно. Значение по умолчанию — false\n",
    "'limit' : 1, #количество записей на странице. Значение по умолчанию — 30. Не более 1000        \n",
    "'sorting' : 'price', #сортировка цен:\n",
    "#          price — по цене (значение по умолчанию). Для направлений город — город возможна сортировка только по цене.\n",
    "#          route — по популярности маршрута.\n",
    "#          distance_unit_price — по цене за километр.\n",
    "'trip_duration' : 1, #длительность пребывания в неделях        \n",
    "'depart_date' : '2020-05', #месяц вылета (формат YYYY-MM)\n",
    "'return_date' : '2020-05', #месяц возвращения (формат YYYY-MM)      \n",
    "'token' : api_config.token}\n",
    "param"
   ]
  },
  {
   "cell_type": "markdown",
   "metadata": {},
   "source": [
    "# Самые дешевые авиабилеты"
   ]
  },
  {
   "cell_type": "code",
   "execution_count": 70,
   "metadata": {},
   "outputs": [],
   "source": [
    "request = 'http://api.travelpayouts.com/v2/prices/latest?'"
   ]
  },
  {
   "cell_type": "code",
   "execution_count": 71,
   "metadata": {},
   "outputs": [],
   "source": [
    "def creation_parameters(param_list):\n",
    "    param_str = ''\n",
    "    for par in param_list:\n",
    "        if par != '':\n",
    "            param_str = param_str + par + '=' + str(param[par]) + '&'\n",
    "    return param_str[:-1]      "
   ]
  },
  {
   "cell_type": "code",
   "execution_count": 72,
   "metadata": {},
   "outputs": [],
   "source": [
    "full_request = request + creation_parameters(['currency',\n",
    "                                              'origin',\n",
    "                                              'destination',\n",
    "                                              'beginning_of_period',\n",
    "                                              'one_way',\n",
    "                                              'limit',\n",
    "                                              'sorting',\n",
    "                                              'trip_duration',\n",
    "                                              'token'\n",
    "                                             ])"
   ]
  },
  {
   "cell_type": "code",
   "execution_count": 73,
   "metadata": {},
   "outputs": [
    {
     "name": "stdout",
     "output_type": "stream",
     "text": [
      "{\"success\": true, \"data\": \n",
      "[{\"value\":5984,\"trip_class\":0,\"show_to_affiliates\":true,\"return_date\":\"2020-01-28\",\"origin\":\"LED\",\"number_of_changes\":1,\"gate\":\"Aviakassa\",\"found_at\":\"2020-01-09T12:55:27.708418\",\"duration\":1330,\"distance\":3364,\"destination\":\"OPO\",\"depart_date\":\"2020-01-21\",\"actual\":true}] }\n",
      "\n"
     ]
    }
   ],
   "source": [
    "response = requests.request(\"GET\", full_request)\n",
    "print(response.text)"
   ]
  },
  {
   "cell_type": "code",
   "execution_count": 74,
   "metadata": {},
   "outputs": [],
   "source": [
    "request = 'http://api.travelpayouts.com/v1/prices/cheap?'"
   ]
  },
  {
   "cell_type": "code",
   "execution_count": 76,
   "metadata": {},
   "outputs": [
    {
     "name": "stdout",
     "output_type": "stream",
     "text": [
      "{\"success\":true,\"data\":{\"OPO\":{\"1\":{\"price\":16373,\"airline\":\"SU\",\"flight_number\":7211,\"departure_at\":\"2020-05-24T09:45:00Z\",\"return_at\":\"2020-05-31T07:25:00Z\",\"expires_at\":\"2020-01-12T09:10:00Z\"},\"2\":{\"price\":18111,\"airline\":\"SK\",\"flight_number\":733,\"departure_at\":\"2020-05-05T15:05:00Z\",\"return_at\":\"2020-05-12T12:55:00Z\",\"expires_at\":\"2020-01-12T19:53:18Z\"},\"3\":{\"price\":21675,\"airline\":\"SU\",\"flight_number\":7211,\"departure_at\":\"2020-05-24T09:45:00Z\",\"return_at\":\"2020-05-31T09:00:00Z\",\"expires_at\":\"2020-01-12T09:10:00Z\"},\"4\":{\"price\":35780,\"airline\":\"AY\",\"flight_number\":708,\"departure_at\":\"2020-05-02T13:55:00Z\",\"return_at\":\"2020-05-07T06:00:00Z\",\"expires_at\":\"2020-01-11T17:45:53Z\"}}},\"error\":null,\"currency\":\"rub\"}\n"
     ]
    }
   ],
   "source": [
    "full_request = request + creation_parameters(['currency',\n",
    "                                              'origin',\n",
    "                                              'destination',\n",
    "                                              'depart_date',\n",
    "                                              'return_date',\n",
    "                                              'token'\n",
    "                                             ])\n",
    "response = requests.request(\"GET\", full_request)\n",
    "print(response.text)"
   ]
  },
  {
   "cell_type": "code",
   "execution_count": 94,
   "metadata": {},
   "outputs": [],
   "source": [
    "import json"
   ]
  },
  {
   "cell_type": "code",
   "execution_count": 95,
   "metadata": {},
   "outputs": [],
   "source": [
    "response = requests.get('http://api.travelpayouts.com/data/routes.json')\n",
    "todos = json.loads(response.text)"
   ]
  },
  {
   "cell_type": "code",
   "execution_count": 101,
   "metadata": {},
   "outputs": [
    {
     "name": "stdout",
     "output_type": "stream",
     "text": [
      "{'airline_iata': 'SU', 'airline_icao': None, 'departure_airport_iata': 'AAQ', 'departure_airport_icao': None, 'arrival_airport_iata': 'LED', 'arrival_airport_icao': None, 'codeshare': True, 'transfers': 0, 'planes': ['735']}\n"
     ]
    }
   ],
   "source": [
    "for todo in todos:\n",
    "    if todo['airline_iata'] == 'SU':\n",
    "        print(todo)\n",
    "        break"
   ]
  },
  {
   "cell_type": "code",
   "execution_count": null,
   "metadata": {},
   "outputs": [],
   "source": [
    "for todo in todos:\n",
    "    todo\n",
    "        todo\n",
    "        break"
   ]
  }
 ],
 "metadata": {
  "kernelspec": {
   "display_name": "Python 3",
   "language": "python",
   "name": "python3"
  },
  "language_info": {
   "codemirror_mode": {
    "name": "ipython",
    "version": 3
   },
   "file_extension": ".py",
   "mimetype": "text/x-python",
   "name": "python",
   "nbconvert_exporter": "python",
   "pygments_lexer": "ipython3",
   "version": "3.7.5"
  },
  "toc": {
   "base_numbering": 1,
   "nav_menu": {},
   "number_sections": true,
   "sideBar": true,
   "skip_h1_title": false,
   "title_cell": "Table of Contents",
   "title_sidebar": "Contents",
   "toc_cell": false,
   "toc_position": {},
   "toc_section_display": true,
   "toc_window_display": false
  },
  "varInspector": {
   "cols": {
    "lenName": 16,
    "lenType": 16,
    "lenVar": 40
   },
   "kernels_config": {
    "python": {
     "delete_cmd_postfix": "",
     "delete_cmd_prefix": "del ",
     "library": "var_list.py",
     "varRefreshCmd": "print(var_dic_list())"
    },
    "r": {
     "delete_cmd_postfix": ") ",
     "delete_cmd_prefix": "rm(",
     "library": "var_list.r",
     "varRefreshCmd": "cat(var_dic_list()) "
    }
   },
   "types_to_exclude": [
    "module",
    "function",
    "builtin_function_or_method",
    "instance",
    "_Feature"
   ],
   "window_display": false
  }
 },
 "nbformat": 4,
 "nbformat_minor": 2
}
