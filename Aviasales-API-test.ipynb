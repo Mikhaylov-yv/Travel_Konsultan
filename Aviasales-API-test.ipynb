{
 "cells": [
  {
   "cell_type": "code",
   "execution_count": 41,
   "metadata": {},
   "outputs": [],
   "source": [
    "import api_config"
   ]
  },
  {
   "cell_type": "markdown",
   "metadata": {},
   "source": [
    "# Переенные"
   ]
  },
  {
   "cell_type": "code",
   "execution_count": 42,
   "metadata": {},
   "outputs": [
    {
     "data": {
      "text/plain": [
       "{'origin': 'LED',\n",
       " 'destination': 'OPO',\n",
       " 'currency': 'rub',\n",
       " 'beginning_of_period': '2020-05-01',\n",
       " 'show_to_affiliates': 'false',\n",
       " 'one_way': 'true',\n",
       " 'limit': 50,\n",
       " 'sorting': 'price',\n",
       " 'trip_duration': 1,\n",
       " 'token': '27decee2c33665d87d6e751aa6426237'}"
      ]
     },
     "execution_count": 42,
     "metadata": {},
     "output_type": "execute_result"
    }
   ],
   "source": [
    "param = {'origin' : 'LED',\n",
    "'destination' : 'OPO',\n",
    "'currency' : 'rub',\n",
    "'beginning_of_period' : '2020-05-01',\n",
    "'show_to_affiliates' : 'false',\n",
    "'one_way' : 'true', #true — в одну сторону, false — туда и обратно. Значение по умолчанию — false\n",
    "'limit' : 50, #количество записей на странице. Значение по умолчанию — 30. Не более 1000        \n",
    "'sorting' : 'price', #сортировка цен:\n",
    "#          price — по цене (значение по умолчанию). Для направлений город — город возможна сортировка только по цене.\n",
    "#          route — по популярности маршрута.\n",
    "#          distance_unit_price — по цене за километр.\n",
    "'trip_duration' : 1, #длительность пребывания в неделях        \n",
    "'token' : api_config.token}\n",
    "param"
   ]
  },
  {
   "cell_type": "markdown",
   "metadata": {},
   "source": [
    "# Самые дешевые авиабилеты"
   ]
  },
  {
   "cell_type": "code",
   "execution_count": 43,
   "metadata": {},
   "outputs": [],
   "source": [
    "request = 'http://api.travelpayouts.com/v2/prices/latest?'"
   ]
  },
  {
   "cell_type": "code",
   "execution_count": 44,
   "metadata": {},
   "outputs": [],
   "source": [
    "def creation_parameters(param_list):\n",
    "    param_str = ''\n",
    "    for par in param_list:\n",
    "        if par != '':\n",
    "            param_str = param_str + par + '=' + str(param[par]) + '&'\n",
    "    return param_str[:-1]      "
   ]
  },
  {
   "cell_type": "code",
   "execution_count": 45,
   "metadata": {},
   "outputs": [
    {
     "data": {
      "text/plain": [
       "'http://api.travelpayouts.com/v2/prices/latest?currency=rub&origin=LED&destination=OPO&beginning_of_period=2020-05-01&one_way=true&limit=50&sorting=price&trip_duration=1&token=27decee2c33665d87d6e751aa6426237'"
      ]
     },
     "execution_count": 45,
     "metadata": {},
     "output_type": "execute_result"
    }
   ],
   "source": [
    "full_request = request + creation_parameters(['currency',\n",
    "                                              'origin',\n",
    "                                              'destination',\n",
    "                                              'beginning_of_period',\n",
    "                                              'one_way',\n",
    "                                              'limit',\n",
    "                                              'sorting',\n",
    "                                              'trip_duration',\n",
    "                                              'token'\n",
    "                                             ])\n",
    "full_request"
   ]
  },
  {
   "cell_type": "code",
   "execution_count": null,
   "metadata": {},
   "outputs": [],
   "source": []
  }
 ],
 "metadata": {
  "kernelspec": {
   "display_name": "Python 3",
   "language": "python",
   "name": "python3"
  },
  "language_info": {
   "codemirror_mode": {
    "name": "ipython",
    "version": 3
   },
   "file_extension": ".py",
   "mimetype": "text/x-python",
   "name": "python",
   "nbconvert_exporter": "python",
   "pygments_lexer": "ipython3",
   "version": "3.7.5"
  },
  "toc": {
   "base_numbering": 1,
   "nav_menu": {},
   "number_sections": true,
   "sideBar": true,
   "skip_h1_title": false,
   "title_cell": "Table of Contents",
   "title_sidebar": "Contents",
   "toc_cell": false,
   "toc_position": {},
   "toc_section_display": true,
   "toc_window_display": false
  },
  "varInspector": {
   "cols": {
    "lenName": 16,
    "lenType": 16,
    "lenVar": 40
   },
   "kernels_config": {
    "python": {
     "delete_cmd_postfix": "",
     "delete_cmd_prefix": "del ",
     "library": "var_list.py",
     "varRefreshCmd": "print(var_dic_list())"
    },
    "r": {
     "delete_cmd_postfix": ") ",
     "delete_cmd_prefix": "rm(",
     "library": "var_list.r",
     "varRefreshCmd": "cat(var_dic_list()) "
    }
   },
   "types_to_exclude": [
    "module",
    "function",
    "builtin_function_or_method",
    "instance",
    "_Feature"
   ],
   "window_display": false
  }
 },
 "nbformat": 4,
 "nbformat_minor": 2
}
